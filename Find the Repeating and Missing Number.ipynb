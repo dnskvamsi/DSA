{
 "cells": [
  {
   "cell_type": "markdown",
   "metadata": {},
   "source": [
    "    Given an unsorted array of size n. array elements are in the range from 1 to n.One number from set {1,2,3....n} is \n",
    "    missing and one number occurs twice in the array. Find these two numbers."
   ]
  },
  {
   "cell_type": "markdown",
   "metadata": {},
   "source": [
    "### Method 1"
   ]
  },
  {
   "cell_type": "code",
   "execution_count": 18,
   "metadata": {},
   "outputs": [
    {
     "name": "stdout",
     "output_type": "stream",
     "text": [
      "missing number 5\n",
      "repeating_number 1\n"
     ]
    }
   ],
   "source": [
    "## using sets\n",
    "l=[4,3,6,2,1,1]\n",
    "n=len(l)\n",
    "unique_l=set(l)\n",
    "p=[]\n",
    "s=0\n",
    "for i in range(1,len(l)):\n",
    "    p.append(i)\n",
    "    s=s+i\n",
    "missing_number= list(set(p).difference(set(l)))[0]\n",
    "repating_number=abs(s-sum(unique_l))\n",
    "print(\"missing number\",missing_number)\n",
    "print(\"repeating_number\",repating_number)"
   ]
  },
  {
   "cell_type": "markdown",
   "metadata": {},
   "source": [
    "### Method 2"
   ]
  },
  {
   "cell_type": "code",
   "execution_count": 22,
   "metadata": {},
   "outputs": [
    {
     "name": "stdout",
     "output_type": "stream",
     "text": [
      "missing number 5\n",
      "repeating_number 1\n"
     ]
    }
   ],
   "source": [
    "## use hashing\n",
    "l=[4,3,6,2,1,1]\n",
    "h=[]\n",
    "for i in range(0,len(l)+1):\n",
    "    h.append(0)\n",
    "for i in l:\n",
    "    h[i]=h[i]+1\n",
    "for i in range(1,len(h)):\n",
    "    if(h[i]==0):\n",
    "        missing_number=i\n",
    "    elif(h[i]==2):\n",
    "        repeating_number=i\n",
    "print(\"missing number\",missing_number)\n",
    "print(\"repeating_number\",repating_number)"
   ]
  },
  {
   "cell_type": "markdown",
   "metadata": {},
   "source": [
    "### Method 3"
   ]
  },
  {
   "cell_type": "code",
   "execution_count": 27,
   "metadata": {},
   "outputs": [
    {
     "name": "stdout",
     "output_type": "stream",
     "text": [
      "missing number 5.0\n",
      "repeating_number 1\n"
     ]
    }
   ],
   "source": [
    "## using sum of numbers and sum of square of numbers\n",
    "l=[4,3,6,2,1,1]\n",
    "n=len(l)\n",
    "s=(n*(n+1))//2\n",
    "s2=(n*(n+1)*(2*n+1))//6\n",
    "s_a=0    ## sum of array\n",
    "s_a2=0   ## sum of square of array\n",
    "for i in l:\n",
    "    s_a=s_a+i\n",
    "    s_a2=s_a2+i**2\n",
    "a=s-(s_a)            ## gives X-Y\n",
    "b=s2-(s_a2)          ## gives X^2 - Y^2\n",
    "c=b/a                ## gives X + Y\n",
    "missing_number = (a+c)/2\n",
    "repeating_number =(a-c)//2\n",
    "print(\"missing number\",missing_number)\n",
    "print(\"repeating_number\",repating_number)"
   ]
  },
  {
   "cell_type": "markdown",
   "metadata": {},
   "source": [
    "###  Method 4"
   ]
  },
  {
   "cell_type": "code",
   "execution_count": 54,
   "metadata": {},
   "outputs": [
    {
     "name": "stdout",
     "output_type": "stream",
     "text": [
      "missing number 5\n",
      "repeating_number 1\n"
     ]
    }
   ],
   "source": [
    "### using XOR operations\n",
    "import functools\n",
    "l=[4,3,6,2,1,1]\n",
    "x=0\n",
    "y=0\n",
    "a=functools.reduce(lambda a, b: a^b, l)\n",
    "for i in range(1,len(l)+1):\n",
    "    a=a^i   ### gives X^Y\n",
    "set_bit_no = a & ~(a - 1)\n",
    "for i in range(len(l)):\n",
    "    if (l[i] & set_bit_no) != 0:  # l[i] belongs to first set\n",
    "        x = x ^ l[i]\n",
    "    else:\n",
    "        # l[i] belongs to second set\n",
    "        y = y ^ l[i]\n",
    "for i in range(1, len(l) + 1):\n",
    "    if (i & set_bit_no) != 0:          \n",
    "        # i belongs to first set\n",
    "        x = x ^ i\n",
    "    else:\n",
    "        # i belongs to second set\n",
    "        y = y ^ i \n",
    "missing_number=x\n",
    "repeating_number=y\n",
    "print(\"missing number\",missing_number)\n",
    "print(\"repeating_number\",repating_number)"
   ]
  },
  {
   "cell_type": "code",
   "execution_count": 55,
   "metadata": {},
   "outputs": [
    {
     "data": {
      "text/plain": [
       "4"
      ]
     },
     "execution_count": 55,
     "metadata": {},
     "output_type": "execute_result"
    }
   ],
   "source": [
    "a"
   ]
  },
  {
   "cell_type": "code",
   "execution_count": null,
   "metadata": {},
   "outputs": [],
   "source": []
  }
 ],
 "metadata": {
  "kernelspec": {
   "display_name": "Python 3",
   "language": "python",
   "name": "python3"
  },
  "language_info": {
   "codemirror_mode": {
    "name": "ipython",
    "version": 3
   },
   "file_extension": ".py",
   "mimetype": "text/x-python",
   "name": "python",
   "nbconvert_exporter": "python",
   "pygments_lexer": "ipython3",
   "version": "3.7.4"
  }
 },
 "nbformat": 4,
 "nbformat_minor": 2
}
