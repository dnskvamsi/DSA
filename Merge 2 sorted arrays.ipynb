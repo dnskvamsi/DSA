{
 "cells": [
  {
   "cell_type": "markdown",
   "metadata": {},
   "source": [
    "    We are given 2 sorted array. we need to merge these 2 arrays such that the initial numbers (after complete sorting)             are in the 1st array and the remaining numbers are in the 2nd array."
   ]
  },
  {
   "cell_type": "markdown",
   "metadata": {},
   "source": [
    "###  Method 1"
   ]
  },
  {
   "cell_type": "code",
   "execution_count": 9,
   "metadata": {},
   "outputs": [
    {
     "name": "stdout",
     "output_type": "stream",
     "text": [
      "[1, 2, 3, 5, 8, 9]\n",
      "[10, 13, 15, 20]\n"
     ]
    }
   ],
   "source": [
    "## In this method we create a new array and then we will sort them and place the sorted elements in a1 and a2\n",
    "a1=[1,5,9,10,15,20]\n",
    "a2=[2,3,8,13]\n",
    "a3=a1+a2\n",
    "a3.sort()\n",
    "a1=a3[:len(a1)]\n",
    "a2=a3[len(a1):]\n",
    "print(a1)\n",
    "print(a2)"
   ]
  },
  {
   "cell_type": "markdown",
   "metadata": {},
   "source": [
    "### Method 2"
   ]
  },
  {
   "cell_type": "code",
   "execution_count": 31,
   "metadata": {},
   "outputs": [
    {
     "name": "stdout",
     "output_type": "stream",
     "text": [
      "[1, 2, 3, 5, 8, 9]\n",
      "[10, 13, 15, 20]\n"
     ]
    }
   ],
   "source": [
    "### In this method we use Insertion sort algorithm as the given array's are already sorted.\n",
    "a1=[1,5,9,10,15,20]\n",
    "a2=[2,3,8,13]\n",
    "j=0\n",
    "for i in range(0,len(a1)):\n",
    "    if(a1[i]>a2[j]):\n",
    "        a1[i],a2[j]=a2[j],a1[i]\n",
    "        a2.sort()\n",
    "print(a1)\n",
    "print(a2)"
   ]
  },
  {
   "cell_type": "markdown",
   "metadata": {},
   "source": [
    "### Method 3"
   ]
  },
  {
   "cell_type": "code",
   "execution_count": 36,
   "metadata": {},
   "outputs": [
    {
     "name": "stdout",
     "output_type": "stream",
     "text": [
      "[1, 2, 3, 5, 8, 9]\n",
      "[10, 13, 15, 20]\n"
     ]
    }
   ],
   "source": [
    "### Gap Algorithm\n",
    "a1=[1,5,9,10,15,20]\n",
    "a2=[2,3,8,13]\n",
    "import math\n",
    "def nextGap(g):\n",
    "    if (g <= 1):\n",
    "        return 0\n",
    "    return (g // 2) + (g % 2)\n",
    "g = len(a1) + len(a2)\n",
    "g = nextGap(g)\n",
    "while g > 0:\n",
    "    i = 0\n",
    "    while (i + g < len(a1)):\n",
    "        if (a1[i] > a1[i + g]):\n",
    "            a1[i], a1[i + g] = a1[i + g], a1[i]\n",
    "        i += 1\n",
    "    j = g - len(a1) if g > len(a1) else 0\n",
    "    while (i < len(a1) and j < len(a2)):\n",
    "        if (a1[i] > a2[j]):\n",
    "            a1[i], a2[j] = a2[j], a1[i]\n",
    "        i += 1\n",
    "        j += 1\n",
    "    if (j < len(a2)):\n",
    "        j = 0\n",
    "        while (j + g < len(a2)):\n",
    "            if (a2[j] > a2[j + g]):\n",
    "                a2[j], a2[j + g] = a2[j + g], a2[j]\n",
    "            j += 1\n",
    "    g = nextGap(g)\n",
    "print(a1)\n",
    "print(a2)"
   ]
  },
  {
   "cell_type": "code",
   "execution_count": null,
   "metadata": {},
   "outputs": [],
   "source": []
  }
 ],
 "metadata": {
  "kernelspec": {
   "display_name": "Python 3",
   "language": "python",
   "name": "python3"
  },
  "language_info": {
   "codemirror_mode": {
    "name": "ipython",
    "version": 3
   },
   "file_extension": ".py",
   "mimetype": "text/x-python",
   "name": "python",
   "nbconvert_exporter": "python",
   "pygments_lexer": "ipython3",
   "version": "3.7.4"
  }
 },
 "nbformat": 4,
 "nbformat_minor": 2
}
