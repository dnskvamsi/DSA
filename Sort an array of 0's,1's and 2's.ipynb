{
 "cells": [
  {
   "cell_type": "markdown",
   "metadata": {},
   "source": [
    "   ### Sort an array of 0’s 1’s 2’s without using extra space or sorting algo"
   ]
  },
  {
   "cell_type": "markdown",
   "metadata": {},
   "source": [
    "    ### Method 1"
   ]
  },
  {
   "cell_type": "code",
   "execution_count": 12,
   "metadata": {},
   "outputs": [
    {
     "name": "stdout",
     "output_type": "stream",
     "text": [
      "[0, 0, 1, 1, 1, 2]\n"
     ]
    }
   ],
   "source": [
    "### sorting Algorithm\n",
    "l=[0,1,2,1,0,1]\n",
    "l.sort()\n",
    "print(l)"
   ]
  },
  {
   "cell_type": "markdown",
   "metadata": {},
   "source": [
    "    ### Method 2"
   ]
  },
  {
   "cell_type": "code",
   "execution_count": 15,
   "metadata": {},
   "outputs": [
    {
     "name": "stdout",
     "output_type": "stream",
     "text": [
      "[0, 0, 1, 1, 1, 2]\n"
     ]
    }
   ],
   "source": [
    "### Count 0's ,1's and 2's and make an array\n",
    "l=[0,1,2,1,0,1]\n",
    "zeros=l.count(0)\n",
    "ones=l.count(1)\n",
    "two=l.count(2)\n",
    "p=[]\n",
    "for i in range(len(l)):\n",
    "    if(zeros>0):\n",
    "        p.append(0)\n",
    "        zeros=zeros-1\n",
    "    elif(ones>0):\n",
    "        p.append(1)\n",
    "        ones=ones-1\n",
    "    else:\n",
    "        p.append(2)\n",
    "print(p)"
   ]
  },
  {
   "cell_type": "markdown",
   "metadata": {},
   "source": [
    "    ### Method 3"
   ]
  },
  {
   "cell_type": "code",
   "execution_count": 28,
   "metadata": {},
   "outputs": [],
   "source": [
    "### Dutch flag algorithm\n",
    "def s(l):\n",
    "    mid=0\n",
    "    low=0\n",
    "    high=len(l)-1\n",
    "    while(mid<=high):\n",
    "        if(l[mid]==0):\n",
    "            l[mid],l[low]=l[low],l[mid]\n",
    "            \"\"\"temp=l[low]\n",
    "            l[low]=l[mid]\n",
    "            l[mid]=temp\"\"\"\n",
    "            mid=mid+1\n",
    "            low=low+1\n",
    "        elif(l[mid]==1):\n",
    "            mid=mid+1\n",
    "        elif(l[mid]==2):\n",
    "            l[mid],l[high]=l[high],l[mid]\n",
    "            \"\"\"temp=l[mid]\n",
    "            l[mid]=l[high]\n",
    "            l[high]=temp\"\"\"\n",
    "            high=high-1\n",
    "    return l"
   ]
  },
  {
   "cell_type": "markdown",
   "metadata": {},
   "source": [
    "### Programm 2"
   ]
  },
  {
   "cell_type": "code",
   "execution_count": null,
   "metadata": {},
   "outputs": [],
   "source": []
  }
 ],
 "metadata": {
  "kernelspec": {
   "display_name": "Python 3",
   "language": "python",
   "name": "python3"
  },
  "language_info": {
   "codemirror_mode": {
    "name": "ipython",
    "version": 3
   },
   "file_extension": ".py",
   "mimetype": "text/x-python",
   "name": "python",
   "nbconvert_exporter": "python",
   "pygments_lexer": "ipython3",
   "version": "3.7.4"
  }
 },
 "nbformat": 4,
 "nbformat_minor": 2
}
